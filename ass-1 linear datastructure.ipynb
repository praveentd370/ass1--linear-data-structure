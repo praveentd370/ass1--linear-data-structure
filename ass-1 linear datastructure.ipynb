{
 "cells": [
  {
   "cell_type": "code",
   "execution_count": 1,
   "id": "e41d45a5",
   "metadata": {},
   "outputs": [
    {
     "name": "stdout",
     "output_type": "stream",
     "text": [
      "Pairs whose sum is :  7\n",
      "5 2\n",
      "3 4\n",
      "1 6\n"
     ]
    }
   ],
   "source": [
    "#Write a program to find all pairs of an integer array whose sum is equal to a given number?\n",
    "def find(array, len, summ):\n",
    "    print(\"Pairs whose sum is : \", summ)\n",
    "    for i in range(len):\n",
    "        for j in range(i, len):\n",
    "            if (array[i] + array[j]) == summ:\n",
    "                print(array[i], array[j])\n",
    "array=[5, 2, 3, 4, 1, 6, 7]\n",
    "sum=7\n",
    "find(array,len(array),7)"
   ]
  },
  {
   "cell_type": "code",
   "execution_count": 2,
   "id": "2aa763d7",
   "metadata": {},
   "outputs": [
    {
     "data": {
      "text/plain": [
       "[5, 4, 3, 2, 1]"
      ]
     },
     "execution_count": 2,
     "metadata": {},
     "output_type": "execute_result"
    }
   ],
   "source": [
    "#2.Write a program to reverse an array in place? In place means you cannot create a new array. You have to update the original array.\n",
    "array=[1,2,3,4,5]\n",
    "array.reverse()\n",
    "array"
   ]
  },
  {
   "cell_type": "code",
   "execution_count": 7,
   "id": "83406857",
   "metadata": {},
   "outputs": [
    {
     "name": "stdout",
     "output_type": "stream",
     "text": [
      "hello\n",
      "llpeh\n",
      "Given Strings are not rotations of each other.\n"
     ]
    }
   ],
   "source": [
    "#3.Write a program to check if two strings are a rotation of each other?\n",
    "def checkRotation(s1, s2): \n",
    "    temp = '' \n",
    "  \n",
    "    # Check if lengths of two strings are equal or not \n",
    "    if len(s1) != len(s2): \n",
    "        return False\n",
    "  \n",
    "    # storing concatenated string \n",
    "    temp = s1 + s1 \n",
    "  \n",
    "    \n",
    "    if s2 in temp: \n",
    "        return True #returning true if 2nd string is present in concatenated string\n",
    "    else: \n",
    "        return False\n",
    "  \n",
    "string1 = input()\n",
    "string2 = input()\n",
    "  \n",
    "if checkRotation(string1, string2): \n",
    "    print(\"Given Strings are rotations of each other.\")\n",
    "else: \n",
    "    print(\"Given Strings are not rotations of each other.\")"
   ]
  },
  {
   "cell_type": "code",
   "execution_count": 3,
   "id": "78eae4a9",
   "metadata": {},
   "outputs": [
    {
     "name": "stdout",
     "output_type": "stream",
     "text": [
      "First non-repeating character is f\n"
     ]
    }
   ],
   "source": [
    "#4.Write a program to print the first non-repeated character from a string?\n",
    "string = \"geeksforgeeks\"\n",
    "index = -1\n",
    "fnc = \"\"\n",
    "for i in string:\n",
    "    if string.count(i) == 1:\n",
    "        fnc += i\n",
    "        break\n",
    "    else:\n",
    "        index += 1\n",
    "if index == 1:\n",
    "    print(\"Either all characters are repeating or string is empty\")\n",
    "else:\n",
    "    print(\"First non-repeating character is\", fnc)"
   ]
  },
  {
   "cell_type": "code",
   "execution_count": 6,
   "id": "4b8a46fa",
   "metadata": {},
   "outputs": [
    {
     "name": "stdout",
     "output_type": "stream",
     "text": [
      "Enter the number of disks: 2\n",
      "Move disk 1 from rod A to rod B.\n",
      "Move disk 2 from rod A to rod C.\n",
      "Move disk 1 from rod B to rod C.\n"
     ]
    }
   ],
   "source": [
    "#5.Read about the Tower of Hanoi algorithm. Write a program to implement it.\n",
    "# Creating a recursive function  \n",
    "def tower_of_hanoi(disks, source, auxiliary, target):  \n",
    "    if(disks == 1):  \n",
    "        \n",
    "        print('Move disk 1 from rod {} to rod {}.'.format(source, target))  \n",
    "        return  \n",
    "    # function call itself  \n",
    "    tower_of_hanoi(disks - 1, source, target, auxiliary)  \n",
    "    print('Move disk {} from rod {} to rod {}.'.format(disks, source, target))  \n",
    "    tower_of_hanoi(disks - 1, auxiliary, source, target)  \n",
    "  \n",
    "  \n",
    "disks = int(input('Enter the number of disks: '))  \n",
    "# We are referring source as A, auxiliary as B, and target as C  \n",
    "tower_of_hanoi(disks, 'A', 'B', 'C')  # Calling the function "
   ]
  },
  {
   "cell_type": "code",
   "execution_count": 2,
   "id": "2b31e4c0",
   "metadata": {},
   "outputs": [],
   "source": [
    " #6.Write a program to convert prefix expression to infix expression.\n",
    "def pre_in(read):\n",
    "    #print read\n",
    "    tempOp = read[0]\n",
    "    body = read[1:]\n",
    "    expr = []\n",
    "    for i in range(len(body)-1):\n",
    "        if not isinstance(body[i], list) and body[i] != \" \":\n",
    "            expr.append(str(body[i]))\n",
    "            expr.append(tempOp)\n",
    "        else:\n",
    "            expr.append(str(pre_in(body[i])))\n",
    "            expr.append(tempOp)\n",
    "    try:\n",
    "        if not isinstance(body[-1], list):\n",
    "            expr.append(str(body[-1]))\n",
    "        else:\n",
    "            expr.append(str(pre_in(body[-1])))\n",
    "    except:\n",
    "        pass\n",
    "    if expr != None: return \"(\"+' '.join(expr)+\")\"    "
   ]
  },
  {
   "cell_type": "code",
   "execution_count": 4,
   "id": "a2837113",
   "metadata": {},
   "outputs": [
    {
     "name": "stdout",
     "output_type": "stream",
     "text": [
      "Given string is balanced : True\n"
     ]
    }
   ],
   "source": [
    "#7.Write a program to check if all the brackets are closed in a given code snippet.\n",
    "def isbalanced(s):\n",
    "  c= 0\n",
    "  ans=False\n",
    "  for i in s:\n",
    "    if i == \"(\": \n",
    "     c += 1\n",
    "    elif i == \")\":\n",
    "     c-= 1\n",
    "    if c < 0:\n",
    "     return ans\n",
    "    if c==0:\n",
    "     return not ans\n",
    "  return ans\n",
    "s=\"{[]}\"\n",
    "print(\"Given string is balanced :\",isbalanced(s))"
   ]
  },
  {
   "cell_type": "code",
   "execution_count": 2,
   "id": "4dff386b",
   "metadata": {},
   "outputs": [
    {
     "name": "stdout",
     "output_type": "stream",
     "text": [
      "Enter the elements to add to the stack: 2 5 6 8 9 \n",
      "The reversed stack is:\n",
      "9\n",
      "8\n",
      "6\n",
      "5\n",
      "2\n",
      "The stack is:\n",
      "2\n",
      "5\n",
      "6\n",
      "8\n",
      "9\n"
     ]
    }
   ],
   "source": [
    "#8.Write a program to reverse a stack.\n",
    "class Stack_structure:\n",
    "   def __init__(self):\n",
    "      self.items = []\n",
    "\n",
    "   def check_empty(self):\n",
    "      return self.items == []\n",
    "\n",
    "   def push_val(self, data):\n",
    "      self.items.append(data)\n",
    "\n",
    "   def pop_val(self):\n",
    "      return self.items.pop()\n",
    "\n",
    "   def print_it(self):\n",
    "      for data in reversed(self.items):\n",
    "         print(data)\n",
    "\n",
    "def insert_bottom(instance, data):\n",
    "   if instance.check_empty():\n",
    "      instance.push_val(data)\n",
    "   else:\n",
    "      deleted_elem = instance.pop_val()\n",
    "      insert_bottom(instance, data)\n",
    "      instance.push_val(deleted_elem)\n",
    "\n",
    "def stack_reverse(instance):\n",
    "   if not instance.check_empty():\n",
    "      deleted_elem = instance.pop_val()\n",
    "      stack_reverse(instance)\n",
    "      insert_bottom(instance, deleted_elem)\n",
    "\n",
    "my_instance = Stack_structure()\n",
    "data_list = input('Enter the elements to add to the stack: ').split()\n",
    "for data in data_list:\n",
    "   my_instance.push_val(int(data))\n",
    "\n",
    "print('The reversed stack is:')\n",
    "my_instance.print_it()\n",
    "stack_reverse(my_instance)\n",
    "print('The stack is:')\n",
    "my_instance.print_it()"
   ]
  },
  {
   "cell_type": "code",
   "execution_count": 4,
   "id": "1a7df6ae",
   "metadata": {},
   "outputs": [
    {
     "name": "stdout",
     "output_type": "stream",
     "text": [
      "-3\n",
      "0\n",
      "-2\n"
     ]
    }
   ],
   "source": [
    "#9.Write a program to find the smallest number using a stack\n",
    "class MinStack(object):\n",
    "   min=float('inf')\n",
    "   def __init__(self):\n",
    "      self.min=float('inf')\n",
    "      self.stack = []\n",
    "   def push(self, x):\n",
    "      if x<=self.min:\n",
    "         self.stack.append(self.min)\n",
    "         self.min = x\n",
    "      self.stack.append(x)\n",
    "   def pop(self):\n",
    "      t = self.stack[-1]\n",
    "      self.stack.pop()\n",
    "      if self.min == t:\n",
    "         self.min = self.stack[-1]\n",
    "         self.stack.pop()\n",
    "   def top(self):\n",
    "      return self.stack[-1]\n",
    "   def getMin(self):\n",
    "      return self.min\n",
    "m = MinStack()\n",
    "m.push(-2)\n",
    "m.push(0)\n",
    "m.push(-3)\n",
    "print(m.getMin())\n",
    "m.pop()\n",
    "print(m.top())\n",
    "print(m.getMin())"
   ]
  },
  {
   "cell_type": "code",
   "execution_count": 4,
   "id": "f5042043",
   "metadata": {},
   "outputs": [
    {
     "name": "stdout",
     "output_type": "stream",
     "text": [
      "Prefix :  +AB-CD\n"
     ]
    }
   ],
   "source": [
    "10#Write a program to convert postfix to prefix expression.\n",
    "def isOperator(x):\n",
    " \n",
    "    if x == \"+\":\n",
    "        return True\n",
    " \n",
    "    if x == \"-\":\n",
    "        return True\n",
    " \n",
    "    if x == \"/\":\n",
    "        return True\n",
    " \n",
    "    if x == \"*\":\n",
    "        return True\n",
    " \n",
    "    return False\n",
    " \n",
    "# Convert postfix to Prefix expression\n",
    " \n",
    " \n",
    "def postToPre(post_exp):\n",
    " \n",
    "    s = []\n",
    " \n",
    "    # length of expression\n",
    "    length = len(post_exp)\n",
    " \n",
    "    # reading from right to left\n",
    "    for i in range(length):\n",
    " \n",
    "        # check if symbol is operator\n",
    "        if (isOperator(post_exp[i])):\n",
    " \n",
    "            # pop two operands from stack\n",
    "            op1 = s[-1]\n",
    "            s.pop()\n",
    "            op2 = s[-1]\n",
    "            s.pop()\n",
    " \n",
    "            # concat the operands and operator\n",
    "            temp = post_exp[i] + op2 + op1\n",
    " \n",
    "            # Push string temp back to stack\n",
    "            s.append(temp)\n",
    " \n",
    "        # if symbol is an operand\n",
    "        else:\n",
    " \n",
    "            # push the operand to the stack\n",
    "            s.append(post_exp[i])\n",
    " \n",
    "    \n",
    "    ans = \"\"\n",
    "    for i in s:\n",
    "        ans += i\n",
    "    return ans\n",
    " \n",
    " \n",
    "\n",
    "if __name__ == \"__main__\":\n",
    " \n",
    "    post_exp = \"AB+CD-\"\n",
    "     \n",
    "    # Function call\n",
    "    print(\"Prefix : \", postToPre(post_exp))\n",
    " \n",
    "\n"
   ]
  },
  {
   "cell_type": "code",
   "execution_count": null,
   "id": "0a72f494",
   "metadata": {},
   "outputs": [],
   "source": []
  }
 ],
 "metadata": {
  "kernelspec": {
   "display_name": "Python 3 (ipykernel)",
   "language": "python",
   "name": "python3"
  },
  "language_info": {
   "codemirror_mode": {
    "name": "ipython",
    "version": 3
   },
   "file_extension": ".py",
   "mimetype": "text/x-python",
   "name": "python",
   "nbconvert_exporter": "python",
   "pygments_lexer": "ipython3",
   "version": "3.9.12"
  }
 },
 "nbformat": 4,
 "nbformat_minor": 5
}
